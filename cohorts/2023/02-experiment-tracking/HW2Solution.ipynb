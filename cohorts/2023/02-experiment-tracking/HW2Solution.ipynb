{
 "cells": [
  {
   "cell_type": "code",
   "execution_count": 1,
   "metadata": {},
   "outputs": [],
   "source": [
    "import mlflow"
   ]
  },
  {
   "attachments": {},
   "cell_type": "markdown",
   "metadata": {},
   "source": [
    "### Q1. Install the package\n",
    "What's the version that you have? (2.3.2)"
   ]
  },
  {
   "cell_type": "code",
   "execution_count": 5,
   "metadata": {},
   "outputs": [
    {
     "name": "stdout",
     "output_type": "stream",
     "text": [
      "mlflow, version 2.3.2\n"
     ]
    }
   ],
   "source": [
    "!mlflow --version"
   ]
  },
  {
   "attachments": {},
   "cell_type": "markdown",
   "metadata": {},
   "source": [
    "### Q2. Download and preprocess the data\n",
    "So what's the size of the saved DictVectorizer file? (154 kB)"
   ]
  },
  {
   "cell_type": "code",
   "execution_count": 4,
   "metadata": {},
   "outputs": [
    {
     "name": "stdout",
     "output_type": "stream",
     "text": [
      "./data:\n",
      "total 7275kB\n",
      "-rw-rw-r-- 1 kir kir  154kB Мам 30 16:15 dv.pkl\n",
      "-rw-rw-r-- 1 kir kir 2633kB Мам 30 16:15 test.pkl\n",
      "-rw-rw-r-- 1 kir kir 2147kB Мам 30 16:15 train.pkl\n",
      "-rw-rw-r-- 1 kir kir 2337kB Мам 30 16:15 val.pkl\n",
      "\n",
      "data:\n",
      "total 7275kB\n",
      "-rw-rw-r-- 1 kir kir  154kB Мам 30 16:15 dv.pkl\n",
      "-rw-rw-r-- 1 kir kir 2633kB Мам 30 16:15 test.pkl\n",
      "-rw-rw-r-- 1 kir kir 2147kB Мам 30 16:15 train.pkl\n",
      "-rw-rw-r-- 1 kir kir 2337kB Мам 30 16:15 val.pkl\n"
     ]
    }
   ],
   "source": [
    "!ls data -l --block-size=kB ./data"
   ]
  },
  {
   "attachments": {},
   "cell_type": "markdown",
   "metadata": {},
   "source": [
    "### Q3. Train a model with autolog\n",
    "\n",
    "What is the value of the max_depth parameter? (10)\n",
    "\n",
    "![Q3](./imgs/Q3Ans.png)"
   ]
  },
  {
   "attachments": {},
   "cell_type": "markdown",
   "metadata": {},
   "source": [
    "### Q4. Tune model hyperparameters\n",
    "\n",
    "What's the best validation RMSE that you got? (2.45)"
   ]
  },
  {
   "attachments": {},
   "cell_type": "markdown",
   "metadata": {},
   "source": [
    "![q4](./imgs/RFOptimization.png)"
   ]
  },
  {
   "attachments": {},
   "cell_type": "markdown",
   "metadata": {},
   "source": [
    "### Q5. Promote the best model to the model registry?\n",
    "\n",
    "What is the test RMSE of the best model? (2.285)"
   ]
  },
  {
   "attachments": {},
   "cell_type": "markdown",
   "metadata": {},
   "source": [
    "![q5](./imgs/BestModels.png)"
   ]
  },
  {
   "attachments": {},
   "cell_type": "markdown",
   "metadata": {},
   "source": []
  },
  {
   "attachments": {},
   "cell_type": "markdown",
   "metadata": {},
   "source": []
  }
 ],
 "metadata": {
  "kernelspec": {
   "display_name": "mlops-env",
   "language": "python",
   "name": "python3"
  },
  "language_info": {
   "codemirror_mode": {
    "name": "ipython",
    "version": 3
   },
   "file_extension": ".py",
   "mimetype": "text/x-python",
   "name": "python",
   "nbconvert_exporter": "python",
   "pygments_lexer": "ipython3",
   "version": "3.10.6"
  },
  "orig_nbformat": 4
 },
 "nbformat": 4,
 "nbformat_minor": 2
}
